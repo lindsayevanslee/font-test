{
 "cells": [
  {
   "cell_type": "code",
   "execution_count": 32,
   "metadata": {},
   "outputs": [
    {
     "name": "stdout",
     "output_type": "stream",
     "text": [
      "['winkingFace.png', 'confusedFace.png', 'slightlySmilingFace.PNG', 'upsideDownFace.png', 'faceWithOneEyebrowRaised.png', 'neutralFace.png']\n"
     ]
    }
   ],
   "source": [
    "### take emoji image files and make multiple copies at different sizes\n",
    "\n",
    "from PIL import Image\n",
    "from os import listdir\n",
    "\n",
    "#save array of image sizes\n",
    "sizes = [[512, 512],\n",
    "            [256, 256],\n",
    "            [128, 128],\n",
    "            [64, 64],\n",
    "            [32, 32]]\n",
    "\n",
    "#set paths to original images and output\n",
    "path_originals = \"/Users/lindsaylee/Documents/Font design/Images/Emoji originals/\" #images must be png, transparent background, resolution 144 px/in\n",
    "path_output = \"/Users/lindsaylee/Documents/Font design/Images/Emoji output/\"\n",
    "\n",
    "#find .pngs\n",
    "all_files = os.listdir(path_originals)\n",
    "png_files = [e for e in all_files if e.endswith((\".png\", \".PNG\"))]\n",
    "\n",
    "print(png_files)\n",
    "\n",
    "#loop through emojis\n",
    "for i in range(len(png_files)):\n",
    "\n",
    "    #open image\n",
    "    im = Image.open(path_originals + png_files[i])\n",
    "\n",
    "    #loop through sizes\n",
    "    for s in range(len(sizes)):\n",
    "\n",
    "        #save file name without the \".png\" extension\n",
    "        emoji_name = png_files[i][0:-4]\n",
    "\n",
    "        #resize image and save\n",
    "        im.resize(sizes[s]).save(path_output + emoji_name + \" \" + str(sizes[s][0]) + \".png\")\n",
    "\n"
   ]
  }
 ],
 "metadata": {
  "kernelspec": {
   "display_name": "Python 3.10.8 64-bit",
   "language": "python",
   "name": "python3"
  },
  "language_info": {
   "codemirror_mode": {
    "name": "ipython",
    "version": 3
   },
   "file_extension": ".py",
   "mimetype": "text/x-python",
   "name": "python",
   "nbconvert_exporter": "python",
   "pygments_lexer": "ipython3",
   "version": "3.10.8"
  },
  "orig_nbformat": 4,
  "vscode": {
   "interpreter": {
    "hash": "b460384b52104c1e5b9cf54bee46a255d22b2bef338f75ac4ad5d48196028d3c"
   }
  }
 },
 "nbformat": 4,
 "nbformat_minor": 2
}
